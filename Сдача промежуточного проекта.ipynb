{
 "cells": [
  {
   "cell_type": "markdown",
   "metadata": {},
   "source": [
    "## Промежуточный проект"
   ]
  },
  {
   "cell_type": "markdown",
   "metadata": {},
   "source": [
    "Мы владеем сетью магазинов, в которых продаются различные товары. Наши сотрудники собрали датасет из 8523 продаж товаров в различных магазинах нашей сети. Наша задача построить модель, предсказывающую продажи каждого продукта в конкретном магазине. Используя эту модель, попробовать выявить факторы, больше всего влияющие на увеличение продаж."
   ]
  },
  {
   "cell_type": "markdown",
   "metadata": {},
   "source": [
    "#### Описание датасета:\n",
    "\n",
    "|Variable|Description|\n",
    "|---|---|\n",
    "|Item_Identifier|Id продукта|\n",
    "|Item_Weight|Вес продукта|\n",
    "|Item_Fat_Content|Содержание жира в продукте|\n",
    "|Item_Visibility|%полок, отведенный под наш продукт в конкретном магазине|\n",
    "|Item_Type|Категория продукта|\n",
    "|Item_MRP|Максимальная цена продажи продукта|\n",
    "|Outlet_Identifier|Идентификатор магазина|\n",
    "|Outlet_Establishment_Year|Год открытия магазина|\n",
    "|Outlet_Size|Площадь магазина|\n",
    "|Outlet_Location_Type|Тип города, в котором расположен магазин|\n",
    "|Outlet_Type|Признак является ли магазин продуктовым или супермаркетом|\n",
    "|Item_Outlet_Sales|Продажи продукта в конкретном магазине. Именно ее и надо предсказывать|"
   ]
  },
  {
   "cell_type": "markdown",
   "metadata": {},
   "source": [
    "#### В результате работы должен получиться:\n",
    "- Jupyter-ноутбук с моделью\n",
    "- Признаки, влияющие больше всего на уровень продаж\n",
    "- Датасет, если после ваших манипуляций он отличается от исходного;\n",
    "- Документ с обоснованием решения и краткими результатами: какие техники и почему использовали, что получили, что можно улучшить (можно в рамках jupyter notebook’а)\n"
   ]
  },
  {
   "cell_type": "markdown",
   "metadata": {},
   "source": [
    "#### Критерии оценки:\n",
    "\n",
    "|№|Баллы|Что надо сделать|\n",
    "|---|---|---|\n",
    "|1|10|Провести EDA|\n",
    "|2|10|Обработать категориальные признаки|\n",
    "|3|10|Устранить пропущенные значения|\n",
    "|4|10|Изучить корреляцию признаков с данными о продажах|\n",
    "|5|10|Выбрать и обосновать метрику, на основе которой будем измерять качество полученной модели|\n",
    "|6|20|Построить и подобрать оптимальные параметры для любой линейной модели|\n",
    "|7|20|Построить и подобрать оптимальные параметры для любой нелинейной модели|\n",
    "|8|20|Провести стекинг нескольких моделей|\n",
    "|9|10|Оценить качество модели на отложенной выборке|\n",
    "|10|10|Выбрать топ 3 признака больше всего влияющие на объемы продаж|"
   ]
  },
  {
   "cell_type": "markdown",
   "metadata": {},
   "source": [
    "Все шаги решения должны сопровождаться подробным описанием полученных результатов и обоснованием выбора того или иного шага! За отсутствие описания так же будут снижаться баллы.\n",
    "\n",
    "- Максимальное доступное количество баллов - 130\n",
    "- Для получения зачета надо набрать минимум 80 баллов\n",
    "- Для получения зачета с отличием надо набрать минимум 120 баллов"
   ]
  },
  {
   "cell_type": "markdown",
   "metadata": {},
   "source": [
    "### Решение"
   ]
  },
  {
   "cell_type": "code",
   "execution_count": 2,
   "metadata": {},
   "outputs": [],
   "source": [
    "import pandas as pd\n",
    "import numpy as np\n",
    "import statistics\n",
    "import seaborn as sns\n",
    "import matplotlib.pyplot as plt\n",
    "import warnings\n",
    "warnings.filterwarnings('ignore')"
   ]
  },
  {
   "cell_type": "code",
   "execution_count": 3,
   "metadata": {},
   "outputs": [],
   "source": [
    "data = pd.read_csv('data.csv')"
   ]
  },
  {
   "cell_type": "markdown",
   "metadata": {},
   "source": [
    "Посмотрим, что из себя представляют данные:"
   ]
  },
  {
   "cell_type": "code",
   "execution_count": 4,
   "metadata": {},
   "outputs": [
    {
     "data": {
      "text/html": [
       "<div>\n",
       "<style scoped>\n",
       "    .dataframe tbody tr th:only-of-type {\n",
       "        vertical-align: middle;\n",
       "    }\n",
       "\n",
       "    .dataframe tbody tr th {\n",
       "        vertical-align: top;\n",
       "    }\n",
       "\n",
       "    .dataframe thead th {\n",
       "        text-align: right;\n",
       "    }\n",
       "</style>\n",
       "<table border=\"1\" class=\"dataframe\">\n",
       "  <thead>\n",
       "    <tr style=\"text-align: right;\">\n",
       "      <th></th>\n",
       "      <th>Item_Identifier</th>\n",
       "      <th>Item_Weight</th>\n",
       "      <th>Item_Fat_Content</th>\n",
       "      <th>Item_Visibility</th>\n",
       "      <th>Item_Type</th>\n",
       "      <th>Item_MRP</th>\n",
       "      <th>Outlet_Identifier</th>\n",
       "      <th>Outlet_Establishment_Year</th>\n",
       "      <th>Outlet_Size</th>\n",
       "      <th>Outlet_Location_Type</th>\n",
       "      <th>Outlet_Type</th>\n",
       "      <th>Item_Outlet_Sales</th>\n",
       "    </tr>\n",
       "  </thead>\n",
       "  <tbody>\n",
       "    <tr>\n",
       "      <th>0</th>\n",
       "      <td>FDA15</td>\n",
       "      <td>9.30</td>\n",
       "      <td>Low Fat</td>\n",
       "      <td>0.016047</td>\n",
       "      <td>Dairy</td>\n",
       "      <td>249.8092</td>\n",
       "      <td>OUT049</td>\n",
       "      <td>1999</td>\n",
       "      <td>Medium</td>\n",
       "      <td>Tier 1</td>\n",
       "      <td>Supermarket Type1</td>\n",
       "      <td>3735.1380</td>\n",
       "    </tr>\n",
       "    <tr>\n",
       "      <th>1</th>\n",
       "      <td>DRC01</td>\n",
       "      <td>5.92</td>\n",
       "      <td>Regular</td>\n",
       "      <td>0.019278</td>\n",
       "      <td>Soft Drinks</td>\n",
       "      <td>48.2692</td>\n",
       "      <td>OUT018</td>\n",
       "      <td>2009</td>\n",
       "      <td>Medium</td>\n",
       "      <td>Tier 3</td>\n",
       "      <td>Supermarket Type2</td>\n",
       "      <td>443.4228</td>\n",
       "    </tr>\n",
       "    <tr>\n",
       "      <th>2</th>\n",
       "      <td>FDN15</td>\n",
       "      <td>17.50</td>\n",
       "      <td>Low Fat</td>\n",
       "      <td>0.016760</td>\n",
       "      <td>Meat</td>\n",
       "      <td>141.6180</td>\n",
       "      <td>OUT049</td>\n",
       "      <td>1999</td>\n",
       "      <td>Medium</td>\n",
       "      <td>Tier 1</td>\n",
       "      <td>Supermarket Type1</td>\n",
       "      <td>2097.2700</td>\n",
       "    </tr>\n",
       "    <tr>\n",
       "      <th>3</th>\n",
       "      <td>FDX07</td>\n",
       "      <td>19.20</td>\n",
       "      <td>Regular</td>\n",
       "      <td>0.000000</td>\n",
       "      <td>Fruits and Vegetables</td>\n",
       "      <td>182.0950</td>\n",
       "      <td>OUT010</td>\n",
       "      <td>1998</td>\n",
       "      <td>NaN</td>\n",
       "      <td>Tier 3</td>\n",
       "      <td>Grocery Store</td>\n",
       "      <td>732.3800</td>\n",
       "    </tr>\n",
       "    <tr>\n",
       "      <th>4</th>\n",
       "      <td>NCD19</td>\n",
       "      <td>8.93</td>\n",
       "      <td>Low Fat</td>\n",
       "      <td>0.000000</td>\n",
       "      <td>Household</td>\n",
       "      <td>53.8614</td>\n",
       "      <td>OUT013</td>\n",
       "      <td>1987</td>\n",
       "      <td>High</td>\n",
       "      <td>Tier 3</td>\n",
       "      <td>Supermarket Type1</td>\n",
       "      <td>994.7052</td>\n",
       "    </tr>\n",
       "  </tbody>\n",
       "</table>\n",
       "</div>"
      ],
      "text/plain": [
       "  Item_Identifier  Item_Weight Item_Fat_Content  Item_Visibility  \\\n",
       "0           FDA15         9.30          Low Fat         0.016047   \n",
       "1           DRC01         5.92          Regular         0.019278   \n",
       "2           FDN15        17.50          Low Fat         0.016760   \n",
       "3           FDX07        19.20          Regular         0.000000   \n",
       "4           NCD19         8.93          Low Fat         0.000000   \n",
       "\n",
       "               Item_Type  Item_MRP Outlet_Identifier  \\\n",
       "0                  Dairy  249.8092            OUT049   \n",
       "1            Soft Drinks   48.2692            OUT018   \n",
       "2                   Meat  141.6180            OUT049   \n",
       "3  Fruits and Vegetables  182.0950            OUT010   \n",
       "4              Household   53.8614            OUT013   \n",
       "\n",
       "   Outlet_Establishment_Year Outlet_Size Outlet_Location_Type  \\\n",
       "0                       1999      Medium               Tier 1   \n",
       "1                       2009      Medium               Tier 3   \n",
       "2                       1999      Medium               Tier 1   \n",
       "3                       1998         NaN               Tier 3   \n",
       "4                       1987        High               Tier 3   \n",
       "\n",
       "         Outlet_Type  Item_Outlet_Sales  \n",
       "0  Supermarket Type1          3735.1380  \n",
       "1  Supermarket Type2           443.4228  \n",
       "2  Supermarket Type1          2097.2700  \n",
       "3      Grocery Store           732.3800  \n",
       "4  Supermarket Type1           994.7052  "
      ]
     },
     "execution_count": 4,
     "metadata": {},
     "output_type": "execute_result"
    }
   ],
   "source": [
    "data.head()"
   ]
  },
  {
   "cell_type": "markdown",
   "metadata": {},
   "source": [
    "Посмотрим на количество признаков, типы переменных и наличие пропущенных значений:"
   ]
  },
  {
   "cell_type": "code",
   "execution_count": 5,
   "metadata": {},
   "outputs": [
    {
     "name": "stdout",
     "output_type": "stream",
     "text": [
      "<class 'pandas.core.frame.DataFrame'>\n",
      "RangeIndex: 8523 entries, 0 to 8522\n",
      "Data columns (total 12 columns):\n",
      "Item_Identifier              8523 non-null object\n",
      "Item_Weight                  7060 non-null float64\n",
      "Item_Fat_Content             8523 non-null object\n",
      "Item_Visibility              8523 non-null float64\n",
      "Item_Type                    8523 non-null object\n",
      "Item_MRP                     8523 non-null float64\n",
      "Outlet_Identifier            8523 non-null object\n",
      "Outlet_Establishment_Year    8523 non-null int64\n",
      "Outlet_Size                  6113 non-null object\n",
      "Outlet_Location_Type         8523 non-null object\n",
      "Outlet_Type                  8523 non-null object\n",
      "Item_Outlet_Sales            8523 non-null float64\n",
      "dtypes: float64(4), int64(1), object(7)\n",
      "memory usage: 799.1+ KB\n"
     ]
    }
   ],
   "source": [
    "data.info()"
   ]
  },
  {
   "cell_type": "markdown",
   "metadata": {},
   "source": [
    "### Обработка пропущенных значений, устранение пропущенных значений"
   ]
  },
  {
   "cell_type": "markdown",
   "metadata": {},
   "source": [
    "Видно, что такие признаки как **Outlet_Size** и **Item_Weight**, имеют пропущенные значения, подробнее изучим эти признаки и попытаемся заполнить или удалить строки"
   ]
  },
  {
   "cell_type": "markdown",
   "metadata": {},
   "source": [
    "Обработка признака **Outlet_Size**:"
   ]
  },
  {
   "cell_type": "code",
   "execution_count": 6,
   "metadata": {},
   "outputs": [
    {
     "data": {
      "text/plain": [
       "Medium    2793\n",
       "Small     2388\n",
       "High       932\n",
       "Name: Outlet_Size, dtype: int64"
      ]
     },
     "execution_count": 6,
     "metadata": {},
     "output_type": "execute_result"
    }
   ],
   "source": [
    "data['Outlet_Size'].value_counts()"
   ]
  },
  {
   "cell_type": "markdown",
   "metadata": {},
   "source": [
    "Видно что признак категориальный, посмотрим количество пропущенных значений"
   ]
  },
  {
   "cell_type": "code",
   "execution_count": 7,
   "metadata": {},
   "outputs": [
    {
     "data": {
      "text/plain": [
       "2410"
      ]
     },
     "execution_count": 7,
     "metadata": {},
     "output_type": "execute_result"
    }
   ],
   "source": [
    "data['Outlet_Size'].isna().sum() "
   ]
  },
  {
   "cell_type": "markdown",
   "metadata": {},
   "source": [
    "Для пропущенных значений ввдеем новый признак (**Undefined**) и заполним им"
   ]
  },
  {
   "cell_type": "code",
   "execution_count": 8,
   "metadata": {},
   "outputs": [],
   "source": [
    "data.Outlet_Size[data['Outlet_Size'].isna()] = 'Undefined'"
   ]
  },
  {
   "cell_type": "markdown",
   "metadata": {},
   "source": [
    "Обработка признака **Item_Weight**  \n",
    "Видчно что значения не категориальные, посмотрим на количество пропущенных значений:"
   ]
  },
  {
   "cell_type": "code",
   "execution_count": 9,
   "metadata": {},
   "outputs": [
    {
     "data": {
      "text/plain": [
       "1463"
      ]
     },
     "execution_count": 9,
     "metadata": {},
     "output_type": "execute_result"
    }
   ],
   "source": [
    "data['Item_Weight'].isna().sum()"
   ]
  },
  {
   "cell_type": "markdown",
   "metadata": {},
   "source": [
    "Очистим пустые значения"
   ]
  },
  {
   "cell_type": "code",
   "execution_count": 10,
   "metadata": {},
   "outputs": [],
   "source": [
    "data.dropna(subset=['Item_Weight'], inplace=True)"
   ]
  },
  {
   "cell_type": "markdown",
   "metadata": {},
   "source": [
    "Обработка признака **Item_Fat_Content**  "
   ]
  },
  {
   "cell_type": "code",
   "execution_count": 11,
   "metadata": {},
   "outputs": [
    {
     "data": {
      "text/plain": [
       "Low Fat    4222\n",
       "Regular    2388\n",
       "LF          260\n",
       "reg         106\n",
       "low fat      84\n",
       "Name: Item_Fat_Content, dtype: int64"
      ]
     },
     "execution_count": 11,
     "metadata": {},
     "output_type": "execute_result"
    }
   ],
   "source": [
    "data['Item_Fat_Content'].value_counts()"
   ]
  },
  {
   "cell_type": "markdown",
   "metadata": {},
   "source": [
    "Виддно что признаки LF, reg, low fat - относятся к Low Fat и Regular, переименуем их"
   ]
  },
  {
   "cell_type": "code",
   "execution_count": 12,
   "metadata": {},
   "outputs": [],
   "source": [
    "data.Item_Fat_Content[data['Item_Fat_Content'] == 'LF'] = 'Low Fat'\n",
    "data.Item_Fat_Content[data['Item_Fat_Content'] == 'low fat'] = 'Low Fat'\n",
    "data.Item_Fat_Content[data['Item_Fat_Content'] == 'reg'] = 'Regular'"
   ]
  },
  {
   "cell_type": "code",
   "execution_count": 13,
   "metadata": {},
   "outputs": [
    {
     "data": {
      "text/plain": [
       "Low Fat    4566\n",
       "Regular    2494\n",
       "Name: Item_Fat_Content, dtype: int64"
      ]
     },
     "execution_count": 13,
     "metadata": {},
     "output_type": "execute_result"
    }
   ],
   "source": [
    "data['Item_Fat_Content'].value_counts()"
   ]
  },
  {
   "cell_type": "markdown",
   "metadata": {},
   "source": [
    "### Закодируем значения"
   ]
  },
  {
   "cell_type": "markdown",
   "metadata": {},
   "source": [
    "Преобразуем признаки LabelEncoder-ом"
   ]
  },
  {
   "cell_type": "code",
   "execution_count": 14,
   "metadata": {},
   "outputs": [],
   "source": [
    "from sklearn.preprocessing import LabelEncoder\n",
    "label = LabelEncoder()\n",
    "\n",
    "label.fit(data.Item_Identifier)\n",
    "data.Item_Identifier = label.transform(data.Item_Identifier) \n",
    "\n",
    "label.fit(data.Item_Fat_Content)\n",
    "data.Item_Fat_Content = label.transform(data.Item_Fat_Content) \n",
    "\n",
    "label.fit(data.Item_Type)\n",
    "data.Item_Type = label.transform(data.Item_Type) \n",
    "\n",
    "label.fit(data.Outlet_Identifier)\n",
    "data.Outlet_Identifier = label.transform(data.Outlet_Identifier)\n",
    "\n",
    "label.fit(data.Outlet_Size)\n",
    "data.Outlet_Size = label.transform(data.Outlet_Size) \n",
    "\n",
    "label.fit(data.Outlet_Location_Type)\n",
    "data.Outlet_Location_Type = label.transform(data.Outlet_Location_Type) \n",
    "\n",
    "label.fit(data.Outlet_Type)\n",
    "data.Outlet_Type = label.transform(data.Outlet_Type) "
   ]
  },
  {
   "cell_type": "markdown",
   "metadata": {},
   "source": [
    "### Подробнее изучим данные и поситроим корреляцию признаков с данными о продажах"
   ]
  },
  {
   "cell_type": "code",
   "execution_count": 15,
   "metadata": {},
   "outputs": [
    {
     "data": {
      "text/plain": [
       "<matplotlib.axes._subplots.AxesSubplot at 0x1a1f94a4a8>"
      ]
     },
     "execution_count": 15,
     "metadata": {},
     "output_type": "execute_result"
    },
    {
     "data": {
      "image/png": "[encoded data removed]",
      "text/plain": [
       "<Figure size 432x288 with 1 Axes>"
      ]
     },
     "metadata": {
      "needs_background": "light"
     },
     "output_type": "display_data"
    }
   ],
   "source": [
    "# Распределение целевой переменной\n",
    "\n",
    "data['Item_Outlet_Sales'].hist()"
   ]
  },
  {
   "cell_type": "code",
   "execution_count": 16,
   "metadata": {},
   "outputs": [
    {
     "data": {
      "text/html": [
       "<style  type=\"text/css\" >\n",
       "    #T_e93bb0b0_87ce_11ea_b84d_8c8590268661row0_col0 {\n",
       "            width:  10em;\n",
       "             height:  80%;\n",
       "            background:  linear-gradient(90deg,#d65f5f 100.0%, transparent 0%);\n",
       "        }    #T_e93bb0b0_87ce_11ea_b84d_8c8590268661row1_col0 {\n",
       "            width:  10em;\n",
       "             height:  80%;\n",
       "            background:  linear-gradient(90deg,#d65f5f 96.0%, transparent 0%);\n",
       "        }    #T_e93bb0b0_87ce_11ea_b84d_8c8590268661row2_col0 {\n",
       "            width:  10em;\n",
       "             height:  80%;\n",
       "            background:  linear-gradient(90deg,#d65f5f 95.2%, transparent 0%);\n",
       "        }    #T_e93bb0b0_87ce_11ea_b84d_8c8590268661row3_col0 {\n",
       "            width:  10em;\n",
       "             height:  80%;\n",
       "            background:  linear-gradient(90deg,#d65f5f 94.0%, transparent 0%);\n",
       "        }    #T_e93bb0b0_87ce_11ea_b84d_8c8590268661row4_col0 {\n",
       "            width:  10em;\n",
       "             height:  80%;\n",
       "            background:  linear-gradient(90deg,#d65f5f 92.8%, transparent 0%);\n",
       "        }    #T_e93bb0b0_87ce_11ea_b84d_8c8590268661row5_col0 {\n",
       "            width:  10em;\n",
       "             height:  80%;\n",
       "            background:  linear-gradient(90deg,#d65f5f 88.9%, transparent 0%);\n",
       "        }    #T_e93bb0b0_87ce_11ea_b84d_8c8590268661row6_col0 {\n",
       "            width:  10em;\n",
       "             height:  80%;\n",
       "            background:  linear-gradient(90deg,#d65f5f 80.0%, transparent 0%);\n",
       "        }    #T_e93bb0b0_87ce_11ea_b84d_8c8590268661row7_col0 {\n",
       "            width:  10em;\n",
       "             height:  80%;\n",
       "        }</style>  \n",
       "<table id=\"T_e93bb0b0_87ce_11ea_b84d_8c8590268661\" > \n",
       "<thead>    <tr> \n",
       "        <th class=\"blank level0\" ></th> \n",
       "        <th class=\"col_heading level0 col0\" >Item_Outlet_Sales</th> \n",
       "    </tr>    <tr> \n",
       "        <th class=\"index_name level0\" >Outlet_Establishment_Year</th> \n",
       "        <th class=\"blank\" ></th> \n",
       "    </tr></thead> \n",
       "<tbody>    <tr> \n",
       "        <th id=\"T_e93bb0b0_87ce_11ea_b84d_8c8590268661level0_row0\" class=\"row_heading level0 row0\" >2004</th> \n",
       "        <td id=\"T_e93bb0b0_87ce_11ea_b84d_8c8590268661row0_col0\" class=\"data row0 col0\" >2.26812e+06</td> \n",
       "    </tr>    <tr> \n",
       "        <th id=\"T_e93bb0b0_87ce_11ea_b84d_8c8590268661level0_row1\" class=\"row_heading level0 row1\" >1999</th> \n",
       "        <td id=\"T_e93bb0b0_87ce_11ea_b84d_8c8590268661row1_col0\" class=\"data row1 col0\" >2.18397e+06</td> \n",
       "    </tr>    <tr> \n",
       "        <th id=\"T_e93bb0b0_87ce_11ea_b84d_8c8590268661level0_row2\" class=\"row_heading level0 row2\" >2007</th> \n",
       "        <td id=\"T_e93bb0b0_87ce_11ea_b84d_8c8590268661row2_col0\" class=\"data row2 col0\" >2.16747e+06</td> \n",
       "    </tr>    <tr> \n",
       "        <th id=\"T_e93bb0b0_87ce_11ea_b84d_8c8590268661level0_row3\" class=\"row_heading level0 row3\" >1987</th> \n",
       "        <td id=\"T_e93bb0b0_87ce_11ea_b84d_8c8590268661row3_col0\" class=\"data row3 col0\" >2.14266e+06</td> \n",
       "    </tr>    <tr> \n",
       "        <th id=\"T_e93bb0b0_87ce_11ea_b84d_8c8590268661level0_row4\" class=\"row_heading level0 row4\" >1997</th> \n",
       "        <td id=\"T_e93bb0b0_87ce_11ea_b84d_8c8590268661row4_col0\" class=\"data row4 col0\" >2.1184e+06</td> \n",
       "    </tr>    <tr> \n",
       "        <th id=\"T_e93bb0b0_87ce_11ea_b84d_8c8590268661level0_row5\" class=\"row_heading level0 row5\" >2002</th> \n",
       "        <td id=\"T_e93bb0b0_87ce_11ea_b84d_8c8590268661row5_col0\" class=\"data row5 col0\" >2.03673e+06</td> \n",
       "    </tr>    <tr> \n",
       "        <th id=\"T_e93bb0b0_87ce_11ea_b84d_8c8590268661level0_row6\" class=\"row_heading level0 row6\" >2009</th> \n",
       "        <td id=\"T_e93bb0b0_87ce_11ea_b84d_8c8590268661row6_col0\" class=\"data row6 col0\" >1.85182e+06</td> \n",
       "    </tr>    <tr> \n",
       "        <th id=\"T_e93bb0b0_87ce_11ea_b84d_8c8590268661level0_row7\" class=\"row_heading level0 row7\" >1998</th> \n",
       "        <td id=\"T_e93bb0b0_87ce_11ea_b84d_8c8590268661row7_col0\" class=\"data row7 col0\" >188340</td> \n",
       "    </tr></tbody> \n",
       "</table> "
      ],
      "text/plain": [
       "<pandas.io.formats.style.Styler at 0x1a200392b0>"
      ]
     },
     "execution_count": 16,
     "metadata": {},
     "output_type": "execute_result"
    }
   ],
   "source": [
    "# Распределение продаж по годам\n",
    "\n",
    "top_developers_df = data.groupby('Outlet_Establishment_Year')[['Item_Outlet_Sales']].sum()\\\n",
    "    .sort_values('Item_Outlet_Sales', ascending=False).head(10)\n",
    "    \n",
    "top_developers_df.style.bar()"
   ]
  },
  {
   "cell_type": "code",
   "execution_count": 17,
   "metadata": {},
   "outputs": [
    {
     "data": {
      "image/png": "[encoded data removed]",
      "text/plain": [
       "<Figure size 864x648 with 2 Axes>"
      ]
     },
     "metadata": {
      "needs_background": "light"
     },
     "output_type": "display_data"
    }
   ],
   "source": [
    "# построиим матрицу корелляции\n",
    "\n",
    "corrmat = data.corr()\n",
    "f, ax = plt.subplots(figsize=(12, 9))\n",
    "sns.heatmap(corrmat, vmax=.8, square=True);"
   ]
  },
  {
   "cell_type": "code",
   "execution_count": 18,
   "metadata": {},
   "outputs": [
    {
     "data": {
      "text/html": [
       "<div>\n",
       "<style scoped>\n",
       "    .dataframe tbody tr th:only-of-type {\n",
       "        vertical-align: middle;\n",
       "    }\n",
       "\n",
       "    .dataframe tbody tr th {\n",
       "        vertical-align: top;\n",
       "    }\n",
       "\n",
       "    .dataframe thead th {\n",
       "        text-align: right;\n",
       "    }\n",
       "</style>\n",
       "<table border=\"1\" class=\"dataframe\">\n",
       "  <thead>\n",
       "    <tr style=\"text-align: right;\">\n",
       "      <th></th>\n",
       "      <th>Item_Identifier</th>\n",
       "      <th>Item_Weight</th>\n",
       "      <th>Item_Fat_Content</th>\n",
       "      <th>Item_Visibility</th>\n",
       "      <th>Item_Type</th>\n",
       "      <th>Item_MRP</th>\n",
       "      <th>Outlet_Identifier</th>\n",
       "      <th>Outlet_Establishment_Year</th>\n",
       "      <th>Outlet_Size</th>\n",
       "      <th>Outlet_Location_Type</th>\n",
       "      <th>Outlet_Type</th>\n",
       "      <th>Item_Outlet_Sales</th>\n",
       "    </tr>\n",
       "  </thead>\n",
       "  <tbody>\n",
       "    <tr>\n",
       "      <th>Item_Identifier</th>\n",
       "      <td>1.000000</td>\n",
       "      <td>0.048856</td>\n",
       "      <td>-0.115717</td>\n",
       "      <td>-0.030610</td>\n",
       "      <td>-0.020097</td>\n",
       "      <td>0.008685</td>\n",
       "      <td>-0.008467</td>\n",
       "      <td>-0.006137</td>\n",
       "      <td>0.002317</td>\n",
       "      <td>0.006213</td>\n",
       "      <td>-0.005544</td>\n",
       "      <td>0.001923</td>\n",
       "    </tr>\n",
       "    <tr>\n",
       "      <th>Item_Weight</th>\n",
       "      <td>0.048856</td>\n",
       "      <td>1.000000</td>\n",
       "      <td>-0.023238</td>\n",
       "      <td>-0.014048</td>\n",
       "      <td>0.030765</td>\n",
       "      <td>0.027141</td>\n",
       "      <td>-0.006993</td>\n",
       "      <td>-0.011588</td>\n",
       "      <td>-0.015656</td>\n",
       "      <td>0.004715</td>\n",
       "      <td>-0.001088</td>\n",
       "      <td>0.014123</td>\n",
       "    </tr>\n",
       "    <tr>\n",
       "      <th>Item_Fat_Content</th>\n",
       "      <td>-0.115717</td>\n",
       "      <td>-0.023238</td>\n",
       "      <td>1.000000</td>\n",
       "      <td>0.053994</td>\n",
       "      <td>-0.142228</td>\n",
       "      <td>0.001843</td>\n",
       "      <td>0.001773</td>\n",
       "      <td>0.002051</td>\n",
       "      <td>-0.001280</td>\n",
       "      <td>-0.003850</td>\n",
       "      <td>0.001455</td>\n",
       "      <td>0.017424</td>\n",
       "    </tr>\n",
       "    <tr>\n",
       "      <th>Item_Visibility</th>\n",
       "      <td>-0.030610</td>\n",
       "      <td>-0.014048</td>\n",
       "      <td>0.053994</td>\n",
       "      <td>1.000000</td>\n",
       "      <td>-0.038977</td>\n",
       "      <td>-0.006061</td>\n",
       "      <td>-0.109911</td>\n",
       "      <td>-0.016935</td>\n",
       "      <td>0.078715</td>\n",
       "      <td>0.077251</td>\n",
       "      <td>-0.150666</td>\n",
       "      <td>-0.085334</td>\n",
       "    </tr>\n",
       "    <tr>\n",
       "      <th>Item_Type</th>\n",
       "      <td>-0.020097</td>\n",
       "      <td>0.030765</td>\n",
       "      <td>-0.142228</td>\n",
       "      <td>-0.038977</td>\n",
       "      <td>1.000000</td>\n",
       "      <td>0.035628</td>\n",
       "      <td>0.000780</td>\n",
       "      <td>0.006225</td>\n",
       "      <td>0.001915</td>\n",
       "      <td>0.000730</td>\n",
       "      <td>-0.000922</td>\n",
       "      <td>0.022231</td>\n",
       "    </tr>\n",
       "    <tr>\n",
       "      <th>Item_MRP</th>\n",
       "      <td>0.008685</td>\n",
       "      <td>0.027141</td>\n",
       "      <td>0.001843</td>\n",
       "      <td>-0.006061</td>\n",
       "      <td>0.035628</td>\n",
       "      <td>1.000000</td>\n",
       "      <td>0.002156</td>\n",
       "      <td>-0.001657</td>\n",
       "      <td>-0.004519</td>\n",
       "      <td>0.001289</td>\n",
       "      <td>0.003307</td>\n",
       "      <td>0.620961</td>\n",
       "    </tr>\n",
       "    <tr>\n",
       "      <th>Outlet_Identifier</th>\n",
       "      <td>-0.008467</td>\n",
       "      <td>-0.006993</td>\n",
       "      <td>0.001773</td>\n",
       "      <td>-0.109911</td>\n",
       "      <td>0.000780</td>\n",
       "      <td>0.002156</td>\n",
       "      <td>1.000000</td>\n",
       "      <td>0.137176</td>\n",
       "      <td>0.010744</td>\n",
       "      <td>-0.865880</td>\n",
       "      <td>0.199126</td>\n",
       "      <td>0.174302</td>\n",
       "    </tr>\n",
       "    <tr>\n",
       "      <th>Outlet_Establishment_Year</th>\n",
       "      <td>-0.006137</td>\n",
       "      <td>-0.011588</td>\n",
       "      <td>0.002051</td>\n",
       "      <td>-0.016935</td>\n",
       "      <td>0.006225</td>\n",
       "      <td>-0.001657</td>\n",
       "      <td>0.137176</td>\n",
       "      <td>1.000000</td>\n",
       "      <td>0.506425</td>\n",
       "      <td>-0.039612</td>\n",
       "      <td>0.438167</td>\n",
       "      <td>0.012212</td>\n",
       "    </tr>\n",
       "    <tr>\n",
       "      <th>Outlet_Size</th>\n",
       "      <td>0.002317</td>\n",
       "      <td>-0.015656</td>\n",
       "      <td>-0.001280</td>\n",
       "      <td>0.078715</td>\n",
       "      <td>0.001915</td>\n",
       "      <td>-0.004519</td>\n",
       "      <td>0.010744</td>\n",
       "      <td>0.506425</td>\n",
       "      <td>1.000000</td>\n",
       "      <td>-0.210196</td>\n",
       "      <td>-0.419734</td>\n",
       "      <td>-0.101286</td>\n",
       "    </tr>\n",
       "    <tr>\n",
       "      <th>Outlet_Location_Type</th>\n",
       "      <td>0.006213</td>\n",
       "      <td>0.004715</td>\n",
       "      <td>-0.003850</td>\n",
       "      <td>0.077251</td>\n",
       "      <td>0.000730</td>\n",
       "      <td>0.001289</td>\n",
       "      <td>-0.865880</td>\n",
       "      <td>-0.039612</td>\n",
       "      <td>-0.210196</td>\n",
       "      <td>1.000000</td>\n",
       "      <td>0.138116</td>\n",
       "      <td>-0.154567</td>\n",
       "    </tr>\n",
       "    <tr>\n",
       "      <th>Outlet_Type</th>\n",
       "      <td>-0.005544</td>\n",
       "      <td>-0.001088</td>\n",
       "      <td>0.001455</td>\n",
       "      <td>-0.150666</td>\n",
       "      <td>-0.000922</td>\n",
       "      <td>0.003307</td>\n",
       "      <td>0.199126</td>\n",
       "      <td>0.438167</td>\n",
       "      <td>-0.419734</td>\n",
       "      <td>0.138116</td>\n",
       "      <td>1.000000</td>\n",
       "      <td>0.177184</td>\n",
       "    </tr>\n",
       "    <tr>\n",
       "      <th>Item_Outlet_Sales</th>\n",
       "      <td>0.001923</td>\n",
       "      <td>0.014123</td>\n",
       "      <td>0.017424</td>\n",
       "      <td>-0.085334</td>\n",
       "      <td>0.022231</td>\n",
       "      <td>0.620961</td>\n",
       "      <td>0.174302</td>\n",
       "      <td>0.012212</td>\n",
       "      <td>-0.101286</td>\n",
       "      <td>-0.154567</td>\n",
       "      <td>0.177184</td>\n",
       "      <td>1.000000</td>\n",
       "    </tr>\n",
       "  </tbody>\n",
       "</table>\n",
       "</div>"
      ],
      "text/plain": [
       "                           Item_Identifier  Item_Weight  Item_Fat_Content  \\\n",
       "Item_Identifier                   1.000000     0.048856         -0.115717   \n",
       "Item_Weight                       0.048856     1.000000         -0.023238   \n",
       "Item_Fat_Content                 -0.115717    -0.023238          1.000000   \n",
       "Item_Visibility                  -0.030610    -0.014048          0.053994   \n",
       "Item_Type                        -0.020097     0.030765         -0.142228   \n",
       "Item_MRP                          0.008685     0.027141          0.001843   \n",
       "Outlet_Identifier                -0.008467    -0.006993          0.001773   \n",
       "Outlet_Establishment_Year        -0.006137    -0.011588          0.002051   \n",
       "Outlet_Size                       0.002317    -0.015656         -0.001280   \n",
       "Outlet_Location_Type              0.006213     0.004715         -0.003850   \n",
       "Outlet_Type                      -0.005544    -0.001088          0.001455   \n",
       "Item_Outlet_Sales                 0.001923     0.014123          0.017424   \n",
       "\n",
       "                           Item_Visibility  Item_Type  Item_MRP  \\\n",
       "Item_Identifier                  -0.030610  -0.020097  0.008685   \n",
       "Item_Weight                      -0.014048   0.030765  0.027141   \n",
       "Item_Fat_Content                  0.053994  -0.142228  0.001843   \n",
       "Item_Visibility                   1.000000  -0.038977 -0.006061   \n",
       "Item_Type                        -0.038977   1.000000  0.035628   \n",
       "Item_MRP                         -0.006061   0.035628  1.000000   \n",
       "Outlet_Identifier                -0.109911   0.000780  0.002156   \n",
       "Outlet_Establishment_Year        -0.016935   0.006225 -0.001657   \n",
       "Outlet_Size                       0.078715   0.001915 -0.004519   \n",
       "Outlet_Location_Type              0.077251   0.000730  0.001289   \n",
       "Outlet_Type                      -0.150666  -0.000922  0.003307   \n",
       "Item_Outlet_Sales                -0.085334   0.022231  0.620961   \n",
       "\n",
       "                           Outlet_Identifier  Outlet_Establishment_Year  \\\n",
       "Item_Identifier                    -0.008467                  -0.006137   \n",
       "Item_Weight                        -0.006993                  -0.011588   \n",
       "Item_Fat_Content                    0.001773                   0.002051   \n",
       "Item_Visibility                    -0.109911                  -0.016935   \n",
       "Item_Type                           0.000780                   0.006225   \n",
       "Item_MRP                            0.002156                  -0.001657   \n",
       "Outlet_Identifier                   1.000000                   0.137176   \n",
       "Outlet_Establishment_Year           0.137176                   1.000000   \n",
       "Outlet_Size                         0.010744                   0.506425   \n",
       "Outlet_Location_Type               -0.865880                  -0.039612   \n",
       "Outlet_Type                         0.199126                   0.438167   \n",
       "Item_Outlet_Sales                   0.174302                   0.012212   \n",
       "\n",
       "                           Outlet_Size  Outlet_Location_Type  Outlet_Type  \\\n",
       "Item_Identifier               0.002317              0.006213    -0.005544   \n",
       "Item_Weight                  -0.015656              0.004715    -0.001088   \n",
       "Item_Fat_Content             -0.001280             -0.003850     0.001455   \n",
       "Item_Visibility               0.078715              0.077251    -0.150666   \n",
       "Item_Type                     0.001915              0.000730    -0.000922   \n",
       "Item_MRP                     -0.004519              0.001289     0.003307   \n",
       "Outlet_Identifier             0.010744             -0.865880     0.199126   \n",
       "Outlet_Establishment_Year     0.506425             -0.039612     0.438167   \n",
       "Outlet_Size                   1.000000             -0.210196    -0.419734   \n",
       "Outlet_Location_Type         -0.210196              1.000000     0.138116   \n",
       "Outlet_Type                  -0.419734              0.138116     1.000000   \n",
       "Item_Outlet_Sales            -0.101286             -0.154567     0.177184   \n",
       "\n",
       "                           Item_Outlet_Sales  \n",
       "Item_Identifier                     0.001923  \n",
       "Item_Weight                         0.014123  \n",
       "Item_Fat_Content                    0.017424  \n",
       "Item_Visibility                    -0.085334  \n",
       "Item_Type                           0.022231  \n",
       "Item_MRP                            0.620961  \n",
       "Outlet_Identifier                   0.174302  \n",
       "Outlet_Establishment_Year           0.012212  \n",
       "Outlet_Size                        -0.101286  \n",
       "Outlet_Location_Type               -0.154567  \n",
       "Outlet_Type                         0.177184  \n",
       "Item_Outlet_Sales                   1.000000  "
      ]
     },
     "execution_count": 18,
     "metadata": {},
     "output_type": "execute_result"
    }
   ],
   "source": [
    "data.corr()"
   ]
  },
  {
   "cell_type": "markdown",
   "metadata": {},
   "source": [
    "Видно что признак **Item_MRP** хорошо коррелирует с целевой переменной **Item_Outlet_Sales**"
   ]
  },
  {
   "cell_type": "markdown",
   "metadata": {},
   "source": [
    "### Выбор значимых признаков"
   ]
  },
  {
   "cell_type": "markdown",
   "metadata": {},
   "source": [
    "Видим, что все признаки хорошо коррелируют между собой оставим в значимых признаках и выделим целевую переменную"
   ]
  },
  {
   "cell_type": "code",
   "execution_count": 19,
   "metadata": {},
   "outputs": [],
   "source": [
    "X = data[['Item_Outlet_Sales']]\n",
    "y = data.drop(['Item_Outlet_Sales'], axis=1)"
   ]
  },
  {
   "cell_type": "markdown",
   "metadata": {},
   "source": [
    "### Выберем метрику на основе которой будем измерять качество полученной модели"
   ]
  },
  {
   "cell_type": "markdown",
   "metadata": {},
   "source": [
    "Средняя квадратическая ошибка (или MSE) очень похожа на среднюю абсолютную ошибку в том, что она дает общее представление о величине ошибки.\n",
    "\n",
    "Взятие квадратного корня из среднеквадратичной ошибки преобразует единицы обратно в исходные единицы выходной переменной и может иметь смысл для описания и представления."
   ]
  },
  {
   "cell_type": "code",
   "execution_count": 20,
   "metadata": {},
   "outputs": [],
   "source": [
    "from sklearn.metrics import mean_squared_error"
   ]
  },
  {
   "cell_type": "markdown",
   "metadata": {},
   "source": [
    "### Разбиение на тестовую и валидационную выборку, стандартизация"
   ]
  },
  {
   "cell_type": "markdown",
   "metadata": {},
   "source": [
    "Разобьем показатели полученные ранее на 2 подвыборки (обучающую и тестовую)"
   ]
  },
  {
   "cell_type": "code",
   "execution_count": 21,
   "metadata": {},
   "outputs": [],
   "source": [
    "from sklearn.model_selection import train_test_split\n",
    "    \n",
    "X_train, X_test, y_train, y_test = train_test_split(X, y, test_size=0.33, random_state=42)"
   ]
  },
  {
   "cell_type": "markdown",
   "metadata": {},
   "source": [
    "Выполним стандартизацию"
   ]
  },
  {
   "cell_type": "code",
   "execution_count": 22,
   "metadata": {},
   "outputs": [],
   "source": [
    "from sklearn.preprocessing import StandardScaler\n",
    "\n",
    "sc = StandardScaler()\n",
    "\n",
    "X_train = sc.fit_transform(X_train)\n",
    "X_test = sc.transform(X_test)"
   ]
  },
  {
   "cell_type": "markdown",
   "metadata": {},
   "source": [
    "### Построим и подоберем оптимальные параметры для линейной модели"
   ]
  },
  {
   "cell_type": "code",
   "execution_count": 23,
   "metadata": {},
   "outputs": [],
   "source": [
    "from sklearn.linear_model import LinearRegression\n",
    "from sklearn.model_selection import GridSearchCV"
   ]
  },
  {
   "cell_type": "code",
   "execution_count": 24,
   "metadata": {},
   "outputs": [],
   "source": [
    "model = LinearRegression()\n",
    "\n",
    "alpha = [True, False]\n",
    "param_grid = dict(normalize=alpha)\n",
    "scoring = 'neg_mean_squared_error'\n",
    "\n",
    "grid = GridSearchCV(estimator=model, param_grid=param_grid, scoring=scoring)"
   ]
  },
  {
   "cell_type": "markdown",
   "metadata": {},
   "source": [
    "Обучаем модель"
   ]
  },
  {
   "cell_type": "code",
   "execution_count": 25,
   "metadata": {},
   "outputs": [],
   "source": [
    "grid_result = grid.fit(X_train, y_train)"
   ]
  },
  {
   "cell_type": "code",
   "execution_count": 26,
   "metadata": {},
   "outputs": [],
   "source": [
    "predict_test = grid_result.predict(X_test)"
   ]
  },
  {
   "cell_type": "markdown",
   "metadata": {},
   "source": [
    "### Построим и подберем оптимальные параметры для любой нелинейной модели"
   ]
  },
  {
   "cell_type": "code",
   "execution_count": 27,
   "metadata": {},
   "outputs": [],
   "source": [
    "from sklearn.ensemble import RandomForestRegressor"
   ]
  },
  {
   "cell_type": "code",
   "execution_count": 28,
   "metadata": {},
   "outputs": [],
   "source": [
    "model = RandomForestRegressor()\n",
    "\n",
    "parameters = {'bootstrap': [True, False],\n",
    "             'max_depth': [10],\n",
    "             'max_features': ['auto', 'sqrt'],\n",
    "             'min_samples_leaf': [1, 4],\n",
    "             'min_samples_split': [2, 5],\n",
    "             'n_estimators': [10, 20, 30]}\n",
    "\n",
    "scoring = 'neg_mean_squared_error'"
   ]
  },
  {
   "cell_type": "code",
   "execution_count": 29,
   "metadata": {},
   "outputs": [],
   "source": [
    "grid = GridSearchCV(estimator = model, param_grid = parameters, cv = 5, scoring = scoring)"
   ]
  },
  {
   "cell_type": "code",
   "execution_count": 36,
   "metadata": {},
   "outputs": [
    {
     "data": {
      "text/plain": [
       "{'bootstrap': True,\n",
       " 'max_depth': 10,\n",
       " 'max_features': 'sqrt',\n",
       " 'min_samples_leaf': 4,\n",
       " 'min_samples_split': 5,\n",
       " 'n_estimators': 30}"
      ]
     },
     "execution_count": 36,
     "metadata": {},
     "output_type": "execute_result"
    }
   ],
   "source": [
    "grid.best_params_"
   ]
  },
  {
   "cell_type": "markdown",
   "metadata": {},
   "source": [
    "Обучаем модель"
   ]
  },
  {
   "cell_type": "code",
   "execution_count": 60,
   "metadata": {},
   "outputs": [
    {
     "data": {
      "text/plain": [
       "RandomForestRegressor(bootstrap=True, criterion='mse', max_depth=10,\n",
       "           max_features='sqrt', max_leaf_nodes=None,\n",
       "           min_impurity_decrease=0.0, min_impurity_split=None,\n",
       "           min_samples_leaf=4, min_samples_split=5,\n",
       "           min_weight_fraction_leaf=0.0, n_estimators=30, n_jobs=None,\n",
       "           oob_score=False, random_state=None, verbose=0, warm_start=False)"
      ]
     },
     "execution_count": 60,
     "metadata": {},
     "output_type": "execute_result"
    }
   ],
   "source": [
    "modelRF = RandomForestRegressor(bootstrap=True,\n",
    "                                max_depth=10,\n",
    "                                max_features='sqrt',\n",
    "                                min_samples_leaf=4,\n",
    "                                min_samples_split=5,\n",
    "                                n_estimators=30)\n",
    "\n",
    "modelRF.fit(X_train, y_train)"
   ]
  },
  {
   "cell_type": "code",
   "execution_count": 61,
   "metadata": {},
   "outputs": [],
   "source": [
    "predict_testRFR = modelRF.predict(X_test)"
   ]
  },
  {
   "cell_type": "markdown",
   "metadata": {},
   "source": [
    "### Оцениваем качество на отложенной выборке"
   ]
  },
  {
   "cell_type": "code",
   "execution_count": 62,
   "metadata": {},
   "outputs": [
    {
     "name": "stdout",
     "output_type": "stream",
     "text": [
      "LinearRegression. RMSE:  134.94210738980652\n"
     ]
    }
   ],
   "source": [
    "print(\"LinearRegression. RMSE: \", np.sqrt(mean_squared_error(y_test, predict_test)))"
   ]
  },
  {
   "cell_type": "code",
   "execution_count": 63,
   "metadata": {},
   "outputs": [
    {
     "name": "stdout",
     "output_type": "stream",
     "text": [
      "RandomForestRegressor. RMSE:  136.3832564818913\n"
     ]
    }
   ],
   "source": [
    "print(\"RandomForestRegressor. RMSE: \", np.sqrt(mean_squared_error(y_test, predict_testRFR)))"
   ]
  },
  {
   "cell_type": "markdown",
   "metadata": {},
   "source": [
    "### Выберем топ 3 признака больше всего влияющие на объемы продаж"
   ]
  },
  {
   "cell_type": "markdown",
   "metadata": {},
   "source": [
    "Подберем оптимальные параметры для Линейной регрессии"
   ]
  },
  {
   "cell_type": "code",
   "execution_count": 64,
   "metadata": {},
   "outputs": [
    {
     "data": {
      "text/plain": [
       "0    1.0\n",
       "dtype: float64"
      ]
     },
     "execution_count": 64,
     "metadata": {},
     "output_type": "execute_result"
    }
   ],
   "source": [
    "imp = pd.Series(modelRF.feature_importances_)\n",
    "imp.sort_values(ascending=False)"
   ]
  },
  {
   "cell_type": "markdown",
   "metadata": {},
   "source": [
    "### Вывод: RandomForestRegressor дает лучший результат по сравнению с LinearRegression"
   ]
  }
 ],
 "metadata": {
  "kernelspec": {
   "display_name": "Python 3",
   "language": "python",
   "name": "python3"
  },
  "language_info": {
   "codemirror_mode": {
    "name": "ipython",
    "version": 3
   },
   "file_extension": ".py",
   "mimetype": "text/x-python",
   "name": "python",
   "nbconvert_exporter": "python",
   "pygments_lexer": "ipython3",
   "version": "3.6.9"
  }
 },
 "nbformat": 4,
 "nbformat_minor": 2
}
